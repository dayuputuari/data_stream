{
 "cells": [
  {
   "cell_type": "code",
   "execution_count": 101,
   "metadata": {},
   "outputs": [
    {
     "name": "stdout",
     "output_type": "stream",
     "text": [
      "              word  freq\n",
      "0           baliho     1\n",
      "1          prabowo    14\n",
      "2          pancing     1\n",
      "3            sandi     5\n",
      "4    infrastruktur     1\n",
      "5           hutang     1\n",
      "6         jokowima     2\n",
      "7           unggul     1\n",
      "8                      1\n",
      "9           survei     1\n",
      "10        research     1\n",
      "11          center     1\n",
      "12              lo     1\n",
      "13            kyai     1\n",
      "14            amin     1\n",
      "15          dukung     1\n",
      "16       wakakakak     1\n",
      "17            abai     2\n",
      "18           https     5\n",
      "19         ofiwert     1\n",
      "20         politik     3\n",
      "21        vhcmmzsu     1\n",
      "22           jatuh     1\n",
      "23           mudah     1\n",
      "24             yaa     1\n",
      "25             ada     1\n",
      "26          robert     1\n",
      "27         santoso     1\n",
      "28        mmiuvqkj     1\n",
      "29              cs     1\n",
      "..             ...   ...\n",
      "103           duga     1\n",
      "104           kubu     3\n",
      "105         jokowi     4\n",
      "106       sandiaga     1\n",
      "107   prabowosandi     2\n",
      "108          kuota     1\n",
      "109         gunung     1\n",
      "110          letus     1\n",
      "111       presiden     1\n",
      "112         yusril     2\n",
      "113         capres     2\n",
      "114          hasil     2\n",
      "115              t     5\n",
      "116         berita     4\n",
      "117           andi     3\n",
      "118         menang     4\n",
      "119            jem     1\n",
      "120          bahan     1\n",
      "121            fis     1\n",
      "122         remaja     1\n",
      "123        kemarin     1\n",
      "124        selesai     1\n",
      "125            idr     1\n",
      "126             pt     2\n",
      "127            had     1\n",
      "128          badan     1\n",
      "129         negara     2\n",
      "130           kalo     1\n",
      "131            ama     1\n",
      "132           moga     1\n",
      "\n",
      "[133 rows x 2 columns]\n",
      "             word  freq\n",
      "0          daerah     1\n",
      "1           harap     3\n",
      "2           https     5\n",
      "3         ngetuit     1\n",
      "4           gelar     4\n",
      "5       perangkat     1\n",
      "6          dukung     4\n",
      "7           aktif     2\n",
      "8          pimpin     2\n",
      "9          bangsa     2\n",
      "10            syg     2\n",
      "11        prabowo     6\n",
      "12            tdk     2\n",
      "13          ganti     1\n",
      "14          jalan     1\n",
      "15            tol     3\n",
      "16          banda     1\n",
      "17          sigli     1\n",
      "18         proyek     1\n",
      "19         untung     2\n",
      "20         baliho     1\n",
      "21         beliau     1\n",
      "22        perihal     1\n",
      "23          jatuh     1\n",
      "24         kucing     1\n",
      "25            oot     1\n",
      "26            sih     1\n",
      "27          kader     1\n",
      "28       jokowima     1\n",
      "29          orang     1\n",
      "..            ...   ...\n",
      "102       prosesi     1\n",
      "103         tabal     1\n",
      "104          kubu     1\n",
      "105       ofensif     1\n",
      "106           tau     2\n",
      "107         hebat     4\n",
      "108      presiden     3\n",
      "109          lagu     1\n",
      "110         wooow     1\n",
      "111         pakde     1\n",
      "112         setia     1\n",
      "113        negara     1\n",
      "114      ozhrrbjs     1\n",
      "115          rusa     1\n",
      "116          jaga     1\n",
      "117      gggucjwk     1\n",
      "118       selesai     1\n",
      "119    kelarhttps     1\n",
      "120      ouvjwuum     1\n",
      "121           dar     1\n",
      "122         receh     1\n",
      "123       oposisi     1\n",
      "124         salah     2\n",
      "125         topik     1\n",
      "126          laut     1\n",
      "127         bener     1\n",
      "128        respon     1\n",
      "129  prabowosandi     1\n",
      "130       bejalen     1\n",
      "131          kaki     1\n",
      "\n",
      "[132 rows x 2 columns]\n"
     ]
    }
   ],
   "source": [
    "%matplotlib inline\n",
    "from os import path\n",
    "import pandas as pd\n",
    "import seaborn as sn\n",
    "import matplotlib.pyplot as plt\n",
    "from wordcloud import WordCloud, STOPWORDS\n",
    "\n",
    "file_path_pr = path.relpath(\"result/prabowo_result.txt\")\n",
    "file_path_jk = path.relpath(\"result/jokowi_result.txt\")\n",
    "\n",
    "with open(file_path_pr, 'r') as f1:\n",
    "    txt_prabowo = f1.readlines()\n",
    "    \n",
    "with open(file_path_jk, 'r') as f2:\n",
    "    txt_jokowi = f2.readlines()\n",
    "\n",
    "    \n",
    "data_prabowo = []\n",
    "for lines in txt_prabowo :\n",
    "    word =  ''.join(filter(str.isalpha, lines.split(',')[0]))\n",
    "    freq =  int(''.join(filter(str.isnumeric, lines.split(',')[1])))\n",
    "    data_prabowo.append((word,freq))\n",
    "\n",
    "data_jokowi = []\n",
    "for lines in txt_jokowi :\n",
    "    word =  ''.join(filter(str.isalpha, lines.split(',')[0]))\n",
    "    freq =  int(''.join(filter(str.isnumeric, lines.split(',')[1])))\n",
    "    data_jokowi.append((word, freq))\n",
    "\n",
    "\n",
    "df_prabowo = pd.DataFrame(data_prabowo, columns=['word', 'freq'])\n",
    "df_jokowi = pd.DataFrame(data_jokowi, columns=['word', 'freq'])\n",
    "\n",
    "print (df_prabowo)\n",
    "print (df_jokowi)"
   ]
  },
  {
   "cell_type": "code",
   "execution_count": 102,
   "metadata": {},
   "outputs": [
    {
     "data": {
      "image/png": "[encoded data removed]",
      "text/plain": [
       "<Figure size 432x288 with 1 Axes>"
      ]
     },
     "metadata": {
      "needs_background": "light"
     },
     "output_type": "display_data"
    }
   ],
   "source": [
    "df_prabowo = df_prabowo.sort_values('freq')\n",
    "df_prabowo = df_prabowo.loc[df_prabowo['freq'] >= 4]\n",
    "df_prabowo = df_prabowo.loc[~df_prabowo['word'].isin(['t', 'https', 'co'])]\n",
    "\n",
    "ax = df_prabowo.plot.bar(x='word', y='freq', rot=0)\n",
    "plt.show()"
   ]
  },
  {
   "cell_type": "code",
   "execution_count": 104,
   "metadata": {},
   "outputs": [
    {
     "data": {
      "image/png": "[encoded data removed]",
      "text/plain": [
       "<Figure size 432x288 with 1 Axes>"
      ]
     },
     "metadata": {
      "needs_background": "light"
     },
     "output_type": "display_data"
    }
   ],
   "source": [
    "df_jokowi = df_jokowi.sort_values('freq')\n",
    "df_jokowi = df_jokowi.loc[df_jokowi['freq'] >= 4]\n",
    "df_jokowi = df_jokowi.loc[~df_jokowi['word'].isin(['t', 'https', 'co'])]\n",
    "\n",
    "ax = df_jokowi.plot.bar(x='word', y='freq', rot=0)\n",
    "plt.show()"
   ]
  }
 ],
 "metadata": {
  "kernelspec": {
   "display_name": "Python 3",
   "language": "python",
   "name": "python3"
  },
  "language_info": {
   "codemirror_mode": {
    "name": "ipython",
    "version": 3
   },
   "file_extension": ".py",
   "mimetype": "text/x-python",
   "name": "python",
   "nbconvert_exporter": "python",
   "pygments_lexer": "ipython3",
   "version": "3.6.6"
  }
 },
 "nbformat": 4,
 "nbformat_minor": 2
}
