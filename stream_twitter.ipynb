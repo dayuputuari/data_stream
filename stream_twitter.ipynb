{
 "cells": [
  {
   "cell_type": "code",
   "execution_count": null,
   "metadata": {
    "collapsed": true
   },
   "outputs": [],
   "source": [
    "from tweepy import Stream\n",
    "from tweepy import OAuthHandler\n",
    "from tweepy.streaming import StreamListener\n",
    "import MySQLdb\n",
    "import time\n",
    "import json"
   ]
  },
  {
   "cell_type": "code",
   "execution_count": null,
   "metadata": {
    "collapsed": true
   },
   "outputs": [],
   "source": [
    "# replace mysql.server with \"localhost\" if you are running via your own server!\n",
    "#                         server       MySQL username\tMySQL pass  Database name.\n",
    "conn = MySQLdb.connect(\"localhost\",\"root\",\"\",\"tweet_collection\")\n",
    "conn.set_character_set('utf8')\n",
    "c = conn.cursor()\n",
    "\n",
    "\n",
    "#consumer key, consumer secret, access token, access secret.\n",
    "ckey=\"xxx\"\n",
    "csecret=\"xxx\"\n",
    "atoken=\"xxx\"\n",
    "asecret=\"xxx\"\n",
    "\n",
    "class listener(StreamListener):\n",
    "\n",
    "    def on_data(self, data):\n",
    "        all_data = json.loads(data)        \n",
    "        tweet = all_data[\"text\"]        \n",
    "        username = all_data[\"user\"][\"screen_name\"]        \n",
    "        c.execute(\"INSERT INTO tweet_feed (time, username, tweet) VALUES (%s,%s,%s)\",\n",
    "            (time.time(), username, tweet))\n",
    "        conn.commit()\n",
    "        print((username,tweet))        \n",
    "        return True\n",
    "\n",
    "    def on_error(self, status):\n",
    "        print(status)\n",
    "\n",
    "auth = OAuthHandler(ckey, csecret)\n",
    "auth.set_access_token(atoken, asecret)"
   ]
  },
  {
   "cell_type": "code",
   "execution_count": null,
   "metadata": {
    "collapsed": true
   },
   "outputs": [],
   "source": [
    "twitterStream = Stream(auth, listener())\n",
    "twitterStream.filter(track=[\"jokowi\"])"
   ]
  }
 ],
 "metadata": {
  "kernelspec": {
   "display_name": "Python 3",
   "language": "python",
   "name": "python3"
  },
  "language_info": {
   "codemirror_mode": {
    "name": "ipython",
    "version": 3
   },
   "file_extension": ".py",
   "mimetype": "text/x-python",
   "name": "python",
   "nbconvert_exporter": "python",
   "pygments_lexer": "ipython3",
   "version": "3.6.3"
  }
 },
 "nbformat": 4,
 "nbformat_minor": 2
}
